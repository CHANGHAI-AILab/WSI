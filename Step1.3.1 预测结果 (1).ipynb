{
 "cells": [
  {
   "cell_type": "markdown",
   "id": "c54a393e",
   "metadata": {},
   "source": [
    "# 批量预测\n",
    "\n",
    "1. 需要指定要批量预测的样本。\n",
    "\n",
    "   1. 自己手动指定。\n",
    "   2. 通过`mydir`参数循环找到指定目录下的所有图片数据。\n",
    "   \n",
    "2. 指定Onekey训练好的目录路径，对应到`config_path参数`，精确到`viz`目录。\n",
    "> 例如：path2yours/20220802/inception_v3_bb/viz"
   ]
  },
  {
   "cell_type": "code",
   "execution_count": 10,
   "id": "a0146753",
   "metadata": {
    "scrolled": true
   },
   "outputs": [
    {
     "name": "stdout",
     "output_type": "stream",
     "text": [
      "All samples: ['F:\\\\DATA_primary\\\\patches\\\\1238060-D\\\\1238060-D_43008_43008_10240_10240_10752_10752.jpg', 'F:\\\\DATA_primary\\\\patches\\\\1238060-D\\\\1238060-D_43008_43008_10240_10752_10752_11264.jpg', 'F:\\\\DATA_primary\\\\patches\\\\1238060-D\\\\1238060-D_43008_43008_10240_11264_10752_11776.jpg', 'F:\\\\DATA_primary\\\\patches\\\\1238060-D\\\\1238060-D_43008_43008_10240_11776_10752_12288.jpg', 'F:\\\\DATA_primary\\\\patches\\\\1238060-D\\\\1238060-D_43008_43008_10240_12288_10752_12800.jpg', 'F:\\\\DATA_primary\\\\patches\\\\1238060-D\\\\1238060-D_43008_43008_10240_12800_10752_13312.jpg', 'F:\\\\DATA_primary\\\\patches\\\\1238060-D\\\\1238060-D_43008_43008_10240_13312_10752_13824.jpg', 'F:\\\\DATA_primary\\\\patches\\\\1238060-D\\\\1238060-D_43008_43008_10240_13824_10752_14336.jpg', 'F:\\\\DATA_primary\\\\patches\\\\1238060-D\\\\1238060-D_43008_43008_10240_14336_10752_14848.jpg', 'F:\\\\DATA_primary\\\\patches\\\\1238060-D\\\\1238060-D_43008_43008_10240_14848_10752_15360.jpg']\n",
      "1054325\n"
     ]
    }
   ],
   "source": [
    "import os\n",
    "from onekey_algo import get_param_in_cwd\n",
    "from glob import glob\n",
    "import pandas as pd\n",
    "\n",
    "POSSIBLE_IMG = ['.jpg', '.jpeg', '.png', '.bmp']\n",
    "\n",
    "#data_root = get_param_in_cwd('data_root')\n",
    "data_root = r'F:\\DATA_primary'\n",
    "#config_path = os.path.join(data_root, 'models', 'resnet18', 'viz')\n",
    "config_path = r'D:\\bianyun_onekey\\models\\resnet18\\viz'\n",
    "train = pd.read_csv(os.path.join(data_root, 'split_info', 'train-RND-0.txt'), sep='\\t', header=None, names=['fname', 'label'])\n",
    "test = pd.read_csv(os.path.join(data_root, 'split_info', 'val-RND-0.txt'), sep='\\t', header=None, names=['fname', 'label'])\n",
    "#already = set([os.path.basename(s) for s in set(train['fname']) | set(test['fname'])])\n",
    "# 打印 already 集合\n",
    "#print(\"Already set:\", len(already))\n",
    "\n",
    "\n",
    "\n",
    "#all_samples = glob(os.path.join(data_root, 'patches', '*/*.jpg'))\n",
    "all_samples = glob(os.path.join(data_root, 'patches', '*/*.jpg'))\n",
    "\n",
    "print(\"All samples:\", all_samples[:10])  # 打印前 10 个文件路径\n",
    "\n",
    "#all_samples = glob(r'E:\\bian_data\\*/*.jpg')\n",
    "\n",
    "#samples = [s for s in all_samples if os.path.basename(s) not in already]\n",
    "#print(\"Filtered samples:\", samples[:10])  # 打印前 10 个过滤后的文件路径\n",
    "\n",
    "samples = all_samples\n",
    "print(len(samples))\n",
    "\n",
    "\n",
    "\n"
   ]
  },
  {
   "cell_type": "code",
   "execution_count": 11,
   "id": "2389f96c",
   "metadata": {
    "scrolled": true
   },
   "outputs": [
    {
     "name": "stderr",
     "output_type": "stream",
     "text": [
      "[2024-06-28 16:37:27 - eval_classification.py:  65]\tINFO\t正在预测中，已完成：64000, 完成率：6.0702%，移动平均速度是：3.5218 msec/img\n",
      "[2024-06-28 16:38:51 - eval_classification.py:  65]\tINFO\t正在预测中，已完成：128000, 完成率：12.1405%，移动平均速度是：2.4185 msec/img\n",
      "[2024-06-28 16:40:15 - eval_classification.py:  65]\tINFO\t正在预测中，已完成：192000, 完成率：18.2107%，移动平均速度是：2.0462 msec/img\n",
      "[2024-06-28 16:41:40 - eval_classification.py:  65]\tINFO\t正在预测中，已完成：256000, 完成率：24.2809%，移动平均速度是：1.8683 msec/img\n",
      "[2024-06-28 16:43:03 - eval_classification.py:  65]\tINFO\t正在预测中，已完成：320000, 完成率：30.3512%，移动平均速度是：1.7530 msec/img\n",
      "[2024-06-28 16:44:26 - eval_classification.py:  65]\tINFO\t正在预测中，已完成：384000, 完成率：36.4214%，移动平均速度是：1.6776 msec/img\n",
      "[2024-06-28 16:45:51 - eval_classification.py:  65]\tINFO\t正在预测中，已完成：448000, 完成率：42.4916%，移动平均速度是：1.6277 msec/img\n",
      "[2024-06-28 16:47:17 - eval_classification.py:  65]\tINFO\t正在预测中，已完成：512000, 完成率：48.5619%，移动平均速度是：1.5919 msec/img\n",
      "[2024-06-28 16:48:41 - eval_classification.py:  65]\tINFO\t正在预测中，已完成：576000, 完成率：54.6321%，移动平均速度是：1.5616 msec/img\n",
      "[2024-06-28 16:50:07 - eval_classification.py:  65]\tINFO\t正在预测中，已完成：640000, 完成率：60.7023%，移动平均速度是：1.5387 msec/img\n",
      "[2024-06-28 16:51:33 - eval_classification.py:  65]\tINFO\t正在预测中，已完成：704000, 完成率：66.7726%，移动平均速度是：1.5215 msec/img\n",
      "[2024-06-28 16:52:58 - eval_classification.py:  65]\tINFO\t正在预测中，已完成：768000, 完成率：72.8428%，移动平均速度是：1.5053 msec/img\n",
      "[2024-06-28 16:54:23 - eval_classification.py:  65]\tINFO\t正在预测中，已完成：832000, 完成率：78.9130%，移动平均速度是：1.4915 msec/img\n",
      "[2024-06-28 16:55:48 - eval_classification.py:  65]\tINFO\t正在预测中，已完成：896000, 完成率：84.9833%，移动平均速度是：1.4799 msec/img\n",
      "[2024-06-28 16:57:14 - eval_classification.py:  65]\tINFO\t正在预测中，已完成：960000, 完成率：91.0535%，移动平均速度是：1.4710 msec/img\n",
      "[2024-06-28 16:58:38 - eval_classification.py:  65]\tINFO\t正在预测中，已完成：1024000, 完成率：97.1238%，移动平均速度是：1.4607 msec/img\n"
     ]
    }
   ],
   "source": [
    "import json\n",
    "from onekey_algo.classification.eval_classification import init as clf_init\n",
    "from onekey_algo.classification.eval_classification import inference_dataloader as clf_inference\n",
    "\n",
    "model, transformer, labels, device = clf_init(config_path=config_path)\n",
    "results = clf_inference(samples, model, transformer, labels, device, num_workers=20, batch_size=64)\n",
    "\n",
    "r = pd.DataFrame(results, columns=['fname', 'prob', 'pred'])\n",
    "r['gt'] = 1\n",
    "r['prob'] = r['prob'].map(lambda x: json.loads(x)['1']).round(decimals=2)\n",
    "r.to_csv(os.path.join(data_root, 'models', 'resnet18', 'viz', 'predictions_DATA_primary.csv'), index=False)\n",
    "r[['group']] = r[['fname']].applymap(lambda x: x.split('_')[0])\n"
   ]
  },
  {
   "cell_type": "markdown",
   "id": "2b9efdc7",
   "metadata": {},
   "source": [
    "# 移动特征"
   ]
  },
  {
   "cell_type": "code",
   "execution_count": 6,
   "id": "3501a014",
   "metadata": {},
   "outputs": [],
   "source": [
    "r.to_csv(os.path.join(data_root, 'models', 'resnet18', 'viz', 'predictions_TCGA.csv'), index=False)"
   ]
  },
  {
   "cell_type": "code",
   "execution_count": 7,
   "id": "0d6d2baa",
   "metadata": {},
   "outputs": [],
   "source": [
    "import shutil\n",
    "import os\n",
    "\n",
    "#features_dir = os.path.join(data_root, 'models/SimpleViT/viz/features')\\\n",
    "features_dir = os.path.join(r'D:\\bianyun_onekey\\models\\SimpleViT\\viz\\features')\n",
    "for f in os.listdir(features_dir):\n",
    "    fn = os.path.splitext(f)[0]\n",
    "    shutil.move(os.path.join(features_dir, f), os.path.join(features_dir, f\"{fn.split('-')[0]}.csv\"))"
   ]
  },
  {
   "cell_type": "code",
   "execution_count": 8,
   "id": "8dd5a835",
   "metadata": {},
   "outputs": [
    {
     "ename": "FileNotFoundError",
     "evalue": "[Errno 2] No such file or directory: 'D:\\\\bianyun_onekey\\\\models\\\\SimpleViT\\\\viz\\\\features\\\\TCGA-HZ-7926.csv'",
     "output_type": "error",
     "traceback": [
      "\u001b[1;31m---------------------------------------------------------------------------\u001b[0m",
      "\u001b[1;31mFileNotFoundError\u001b[0m                         Traceback (most recent call last)",
      "\u001b[1;32mF:\\BaiduNetdiskDownload\\onekey_envs\\lib\\shutil.py\u001b[0m in \u001b[0;36mmove\u001b[1;34m(src, dst, copy_function)\u001b[0m\n\u001b[0;32m    565\u001b[0m     \u001b[1;32mtry\u001b[0m\u001b[1;33m:\u001b[0m\u001b[1;33m\u001b[0m\u001b[1;33m\u001b[0m\u001b[0m\n\u001b[1;32m--> 566\u001b[1;33m         \u001b[0mos\u001b[0m\u001b[1;33m.\u001b[0m\u001b[0mrename\u001b[0m\u001b[1;33m(\u001b[0m\u001b[0msrc\u001b[0m\u001b[1;33m,\u001b[0m \u001b[0mreal_dst\u001b[0m\u001b[1;33m)\u001b[0m\u001b[1;33m\u001b[0m\u001b[1;33m\u001b[0m\u001b[0m\n\u001b[0m\u001b[0;32m    567\u001b[0m     \u001b[1;32mexcept\u001b[0m \u001b[0mOSError\u001b[0m\u001b[1;33m:\u001b[0m\u001b[1;33m\u001b[0m\u001b[1;33m\u001b[0m\u001b[0m\n",
      "\u001b[1;31mFileNotFoundError\u001b[0m: [WinError 2] 系统找不到指定的文件。: 'D:\\\\bianyun_onekey\\\\models\\\\SimpleViT\\\\viz\\\\features\\\\TCGA-HZ-7926.csv' -> 'D:\\\\bianyun_onekey\\\\models\\\\SimpleViT\\\\viz\\\\features\\\\train\\\\TCGA-HZ-7926.csv'",
      "\nDuring handling of the above exception, another exception occurred:\n",
      "\u001b[1;31mFileNotFoundError\u001b[0m                         Traceback (most recent call last)",
      "\u001b[1;32m~\\AppData\\Local\\Temp\\ipykernel_32328\\3140519891.py\u001b[0m in \u001b[0;36m<module>\u001b[1;34m\u001b[0m\n\u001b[0;32m      5\u001b[0m     \u001b[0msave2\u001b[0m \u001b[1;33m=\u001b[0m \u001b[0mos\u001b[0m\u001b[1;33m.\u001b[0m\u001b[0mpath\u001b[0m\u001b[1;33m.\u001b[0m\u001b[0mjoin\u001b[0m\u001b[1;33m(\u001b[0m\u001b[0mfeatures_dir\u001b[0m\u001b[1;33m,\u001b[0m \u001b[0mgroup\u001b[0m\u001b[1;33m)\u001b[0m\u001b[1;33m\u001b[0m\u001b[1;33m\u001b[0m\u001b[0m\n\u001b[0;32m      6\u001b[0m     \u001b[0mos\u001b[0m\u001b[1;33m.\u001b[0m\u001b[0mmakedirs\u001b[0m\u001b[1;33m(\u001b[0m\u001b[0msave2\u001b[0m\u001b[1;33m,\u001b[0m \u001b[0mexist_ok\u001b[0m\u001b[1;33m=\u001b[0m\u001b[1;32mTrue\u001b[0m\u001b[1;33m)\u001b[0m\u001b[1;33m\u001b[0m\u001b[1;33m\u001b[0m\u001b[0m\n\u001b[1;32m----> 7\u001b[1;33m     \u001b[0mshutil\u001b[0m\u001b[1;33m.\u001b[0m\u001b[0mmove\u001b[0m\u001b[1;33m(\u001b[0m\u001b[0mos\u001b[0m\u001b[1;33m.\u001b[0m\u001b[0mpath\u001b[0m\u001b[1;33m.\u001b[0m\u001b[0mjoin\u001b[0m\u001b[1;33m(\u001b[0m\u001b[0mfeatures_dir\u001b[0m\u001b[1;33m,\u001b[0m \u001b[1;34mf\"{row['ID']}.csv\"\u001b[0m\u001b[1;33m)\u001b[0m\u001b[1;33m,\u001b[0m \u001b[0msave2\u001b[0m\u001b[1;33m)\u001b[0m\u001b[1;33m\u001b[0m\u001b[1;33m\u001b[0m\u001b[0m\n\u001b[0m",
      "\u001b[1;32mF:\\BaiduNetdiskDownload\\onekey_envs\\lib\\shutil.py\u001b[0m in \u001b[0;36mmove\u001b[1;34m(src, dst, copy_function)\u001b[0m\n\u001b[0;32m    578\u001b[0m             \u001b[0mrmtree\u001b[0m\u001b[1;33m(\u001b[0m\u001b[0msrc\u001b[0m\u001b[1;33m)\u001b[0m\u001b[1;33m\u001b[0m\u001b[1;33m\u001b[0m\u001b[0m\n\u001b[0;32m    579\u001b[0m         \u001b[1;32melse\u001b[0m\u001b[1;33m:\u001b[0m\u001b[1;33m\u001b[0m\u001b[1;33m\u001b[0m\u001b[0m\n\u001b[1;32m--> 580\u001b[1;33m             \u001b[0mcopy_function\u001b[0m\u001b[1;33m(\u001b[0m\u001b[0msrc\u001b[0m\u001b[1;33m,\u001b[0m \u001b[0mreal_dst\u001b[0m\u001b[1;33m)\u001b[0m\u001b[1;33m\u001b[0m\u001b[1;33m\u001b[0m\u001b[0m\n\u001b[0m\u001b[0;32m    581\u001b[0m             \u001b[0mos\u001b[0m\u001b[1;33m.\u001b[0m\u001b[0munlink\u001b[0m\u001b[1;33m(\u001b[0m\u001b[0msrc\u001b[0m\u001b[1;33m)\u001b[0m\u001b[1;33m\u001b[0m\u001b[1;33m\u001b[0m\u001b[0m\n\u001b[0;32m    582\u001b[0m     \u001b[1;32mreturn\u001b[0m \u001b[0mreal_dst\u001b[0m\u001b[1;33m\u001b[0m\u001b[1;33m\u001b[0m\u001b[0m\n",
      "\u001b[1;32mF:\\BaiduNetdiskDownload\\onekey_envs\\lib\\shutil.py\u001b[0m in \u001b[0;36mcopy2\u001b[1;34m(src, dst, follow_symlinks)\u001b[0m\n\u001b[0;32m    264\u001b[0m     \u001b[1;32mif\u001b[0m \u001b[0mos\u001b[0m\u001b[1;33m.\u001b[0m\u001b[0mpath\u001b[0m\u001b[1;33m.\u001b[0m\u001b[0misdir\u001b[0m\u001b[1;33m(\u001b[0m\u001b[0mdst\u001b[0m\u001b[1;33m)\u001b[0m\u001b[1;33m:\u001b[0m\u001b[1;33m\u001b[0m\u001b[1;33m\u001b[0m\u001b[0m\n\u001b[0;32m    265\u001b[0m         \u001b[0mdst\u001b[0m \u001b[1;33m=\u001b[0m \u001b[0mos\u001b[0m\u001b[1;33m.\u001b[0m\u001b[0mpath\u001b[0m\u001b[1;33m.\u001b[0m\u001b[0mjoin\u001b[0m\u001b[1;33m(\u001b[0m\u001b[0mdst\u001b[0m\u001b[1;33m,\u001b[0m \u001b[0mos\u001b[0m\u001b[1;33m.\u001b[0m\u001b[0mpath\u001b[0m\u001b[1;33m.\u001b[0m\u001b[0mbasename\u001b[0m\u001b[1;33m(\u001b[0m\u001b[0msrc\u001b[0m\u001b[1;33m)\u001b[0m\u001b[1;33m)\u001b[0m\u001b[1;33m\u001b[0m\u001b[1;33m\u001b[0m\u001b[0m\n\u001b[1;32m--> 266\u001b[1;33m     \u001b[0mcopyfile\u001b[0m\u001b[1;33m(\u001b[0m\u001b[0msrc\u001b[0m\u001b[1;33m,\u001b[0m \u001b[0mdst\u001b[0m\u001b[1;33m,\u001b[0m \u001b[0mfollow_symlinks\u001b[0m\u001b[1;33m=\u001b[0m\u001b[0mfollow_symlinks\u001b[0m\u001b[1;33m)\u001b[0m\u001b[1;33m\u001b[0m\u001b[1;33m\u001b[0m\u001b[0m\n\u001b[0m\u001b[0;32m    267\u001b[0m     \u001b[0mcopystat\u001b[0m\u001b[1;33m(\u001b[0m\u001b[0msrc\u001b[0m\u001b[1;33m,\u001b[0m \u001b[0mdst\u001b[0m\u001b[1;33m,\u001b[0m \u001b[0mfollow_symlinks\u001b[0m\u001b[1;33m=\u001b[0m\u001b[0mfollow_symlinks\u001b[0m\u001b[1;33m)\u001b[0m\u001b[1;33m\u001b[0m\u001b[1;33m\u001b[0m\u001b[0m\n\u001b[0;32m    268\u001b[0m     \u001b[1;32mreturn\u001b[0m \u001b[0mdst\u001b[0m\u001b[1;33m\u001b[0m\u001b[1;33m\u001b[0m\u001b[0m\n",
      "\u001b[1;32mF:\\BaiduNetdiskDownload\\onekey_envs\\lib\\shutil.py\u001b[0m in \u001b[0;36mcopyfile\u001b[1;34m(src, dst, follow_symlinks)\u001b[0m\n\u001b[0;32m    118\u001b[0m         \u001b[0mos\u001b[0m\u001b[1;33m.\u001b[0m\u001b[0msymlink\u001b[0m\u001b[1;33m(\u001b[0m\u001b[0mos\u001b[0m\u001b[1;33m.\u001b[0m\u001b[0mreadlink\u001b[0m\u001b[1;33m(\u001b[0m\u001b[0msrc\u001b[0m\u001b[1;33m)\u001b[0m\u001b[1;33m,\u001b[0m \u001b[0mdst\u001b[0m\u001b[1;33m)\u001b[0m\u001b[1;33m\u001b[0m\u001b[1;33m\u001b[0m\u001b[0m\n\u001b[0;32m    119\u001b[0m     \u001b[1;32melse\u001b[0m\u001b[1;33m:\u001b[0m\u001b[1;33m\u001b[0m\u001b[1;33m\u001b[0m\u001b[0m\n\u001b[1;32m--> 120\u001b[1;33m         \u001b[1;32mwith\u001b[0m \u001b[0mopen\u001b[0m\u001b[1;33m(\u001b[0m\u001b[0msrc\u001b[0m\u001b[1;33m,\u001b[0m \u001b[1;34m'rb'\u001b[0m\u001b[1;33m)\u001b[0m \u001b[1;32mas\u001b[0m \u001b[0mfsrc\u001b[0m\u001b[1;33m:\u001b[0m\u001b[1;33m\u001b[0m\u001b[1;33m\u001b[0m\u001b[0m\n\u001b[0m\u001b[0;32m    121\u001b[0m             \u001b[1;32mwith\u001b[0m \u001b[0mopen\u001b[0m\u001b[1;33m(\u001b[0m\u001b[0mdst\u001b[0m\u001b[1;33m,\u001b[0m \u001b[1;34m'wb'\u001b[0m\u001b[1;33m)\u001b[0m \u001b[1;32mas\u001b[0m \u001b[0mfdst\u001b[0m\u001b[1;33m:\u001b[0m\u001b[1;33m\u001b[0m\u001b[1;33m\u001b[0m\u001b[0m\n\u001b[0;32m    122\u001b[0m                 \u001b[0mcopyfileobj\u001b[0m\u001b[1;33m(\u001b[0m\u001b[0mfsrc\u001b[0m\u001b[1;33m,\u001b[0m \u001b[0mfdst\u001b[0m\u001b[1;33m)\u001b[0m\u001b[1;33m\u001b[0m\u001b[1;33m\u001b[0m\u001b[0m\n",
      "\u001b[1;31mFileNotFoundError\u001b[0m: [Errno 2] No such file or directory: 'D:\\\\bianyun_onekey\\\\models\\\\SimpleViT\\\\viz\\\\features\\\\TCGA-HZ-7926.csv'"
     ]
    }
   ],
   "source": [
    "label_data = pd.read_csv(os.path.join(data_root, 'split_info/label-RND-0.csv'), dtype={'ID': str})\n",
    "\n",
    "for _, row in label_data.iterrows():\n",
    "    group = row['group']\n",
    "    save2 = os.path.join(features_dir, group)\n",
    "    os.makedirs(save2, exist_ok=True)\n",
    "    shutil.move(os.path.join(features_dir, f\"{row['ID']}.csv\"), save2)"
   ]
  },
  {
   "cell_type": "code",
   "execution_count": null,
   "id": "d5a0af3b",
   "metadata": {},
   "outputs": [],
   "source": []
  }
 ],
 "metadata": {
  "kernelspec": {
   "display_name": "Python 3 (ipykernel)",
   "language": "python",
   "name": "python3"
  },
  "language_info": {
   "codemirror_mode": {
    "name": "ipython",
    "version": 3
   },
   "file_extension": ".py",
   "mimetype": "text/x-python",
   "name": "python",
   "nbconvert_exporter": "python",
   "pygments_lexer": "ipython3",
   "version": "3.7.12"
  }
 },
 "nbformat": 4,
 "nbformat_minor": 5
}
